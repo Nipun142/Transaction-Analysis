{
  "nbformat": 4,
  "nbformat_minor": 0,
  "metadata": {
    "colab": {
      "provenance": [],
      "authorship_tag": "ABX9TyPStzwfogLqLAEIrISLTV+Z",
      "include_colab_link": true
    },
    "kernelspec": {
      "name": "python3",
      "display_name": "Python 3"
    },
    "language_info": {
      "name": "python"
    }
  },
  "cells": [
    {
      "cell_type": "markdown",
      "metadata": {
        "id": "view-in-github",
        "colab_type": "text"
      },
      "source": [
        "<a href=\"https://colab.research.google.com/github/Nipun142/Transaction-Analysis/blob/main/Transaction_data_engineering.ipynb\" target=\"_parent\"><img src=\"https://colab.research.google.com/assets/colab-badge.svg\" alt=\"Open In Colab\"/></a>"
      ]
    },
    {
      "cell_type": "code",
      "source": [
        "import imaplib\n",
        "import email\n",
        "from email.header import decode_header\n",
        "import os\n",
        "\n",
        "l=[]\n",
        "EMAIL = # Enter your own mail id\n",
        "PASSWORD = # Enter your own app password\n",
        "MAIL_SERVER = #mail server ex. - \"imap.gmail.com\"\n",
        "\n",
        "\n",
        "# Define the date range\n",
        "START_DATE = \"01-Aug-2024\"\n",
        "END_DATE = \"01-Sep-2024\"\n",
        "\n",
        "def connect_to_mail():\n",
        "\n",
        "    try:\n",
        "        mail = imaplib.IMAP4_SSL(MAIL_SERVER)\n",
        "        mail.login(EMAIL, PASSWORD)\n",
        "        return mail\n",
        "    except imaplib.IMAP4.error as e:\n",
        "        print(f\"Error connecting to mail server: {e}\")\n",
        "        return None\n",
        "\n",
        "def fetch_emails(mail):\n",
        "    try:\n",
        "        mail.select(\"inbox\")\n",
        "\n",
        "        # Validate date strings\n",
        "        if not (START_DATE and END_DATE):\n",
        "            print(\"Date range is not properly defined.\")\n",
        "            return []\n",
        "\n",
        "        # Construct search query\n",
        "        search_criteria = f'(FROM \"alerts@axisbank.com\" SUBJECT \"Debit notification from Axis Bank\" SINCE \"{START_DATE}\" BEFORE \"{END_DATE}\")'\n",
        "\n",
        "\n",
        "        status, message_numbers = mail.search(None, search_criteria)\n",
        "        if status != \"OK\":\n",
        "            print(\"Failed to search emails.\")\n",
        "            return []\n",
        "\n",
        "        message_numbers = message_numbers[0].split()\n",
        "        if not message_numbers:\n",
        "            print(\"No messages found.\")\n",
        "            return []\n",
        "\n",
        "        return message_numbers\n",
        "    except Exception as e:\n",
        "        print(f\"Error fetching emails: {e}\")\n",
        "        return []\n",
        "\n",
        "def extract_relevant_info(body):\n",
        "    return body.strip()\n",
        "\n",
        "def process_email(mail, num):\n",
        "    try:\n",
        "        status, msg_data = mail.fetch(num, '(RFC822)')\n",
        "        if status != \"OK\":\n",
        "            print(f\"Failed to fetch email ID {num}.\")\n",
        "            return\n",
        "\n",
        "        msg = email.message_from_bytes(msg_data[0][1])\n",
        "\n",
        "        # Decode email subject\n",
        "        subject, encoding = decode_header(msg[\"Subject\"])[0]\n",
        "        if isinstance(subject, bytes):\n",
        "            subject = subject.decode(encoding if encoding else \"utf-8\")\n",
        "        else:\n",
        "            subject = subject or \"No Subject\"\n",
        "\n",
        "        # Decode email sender\n",
        "        from_ = msg.get(\"From\") or \"Unknown Sender\"\n",
        "\n",
        "\n",
        "        # Process email body\n",
        "        if msg.is_multipart():\n",
        "            for part in msg.walk():\n",
        "                content_type = part.get_content_type()\n",
        "                content_disposition = str(part.get(\"Content-Disposition\"))\n",
        "\n",
        "                if \"attachment\" not in content_disposition:\n",
        "                    body = part.get_payload(decode=True)\n",
        "                    if body:\n",
        "                        body = body.decode(errors='ignore')\n",
        "                        formatted_body = extract_relevant_info(body)\n",
        "                        # print(f\"Formatted Body: {formatted_body}\")\n",
        "                        l.append(formatted_body)\n",
        "\n",
        "\n",
        "    except Exception as e:\n",
        "        print(f\"Error processing email ID {num}: {e}\")\n",
        "\n",
        "def main():\n",
        "    if not (EMAIL and PASSWORD):\n",
        "        print(\"Email or Password is not set.\")\n",
        "        return\n",
        "\n",
        "    mail = connect_to_mail()\n",
        "    if not mail:\n",
        "        return\n",
        "\n",
        "    message_numbers = fetch_emails(mail)\n",
        "    if not message_numbers:\n",
        "        return\n",
        "\n",
        "    for num in message_numbers:\n",
        "        process_email(mail, num)\n",
        "\n",
        "    mail.logout()\n",
        "\n",
        "if __name__ == \"__main__\":\n",
        "    main()\n",
        "\n",
        "\n",
        "\n",
        "\n",
        "transactions = []\n",
        "df_list=[]\n",
        "for i in range(0,len(l),2):\n",
        "  try:\n",
        "    transactions.append(l[i][:l[i].index(\" For any concerns\")])\n",
        "  except:\n",
        "    continue\n",
        "\n",
        "for i in range(0,len(transactions)):\n",
        "  date =  transactions[i][:10]\n",
        "  amount = float(transactions[i][transactions[i].index(\"INR \"):transactions[i].index(\" has\")][4:])\n",
        "  time = transactions[i][transactions[i].index(\"at \"):transactions[i].index(\" IST\")][3:]\n",
        "  payment_type = transactions[i][transactions[i].index(\"Info- \"):][6:].split(\"/\")[0]\n",
        "  merchant_or_personal = transactions[i][transactions[i].index(\"Info- \"):][6:].split(\"/\")[1]\n",
        "  id = transactions[i][transactions[i].index(\"Info- \"):][6:].split(\"/\")[2]\n",
        "  name = transactions[i][transactions[i].index(\"Info- \"):][6:].split(\"/\")[3]\n",
        "  if name[-1]=='.':\n",
        "    name=name[:-1]\n",
        "  df_list.append([date,time,id,name,payment_type,amount,merchant_or_personal])\n",
        "\n",
        "\n",
        "\n",
        "\n",
        "\n",
        "import pandas as pd\n",
        "cols = [\"date\",\"time\",\"id\",\"name\",\"payment_type\",\"amount\",\"merchant_or_personal\"]\n",
        "df = pd.DataFrame(df_list,columns=cols)\n",
        "\n",
        "df['datetime_str'] = df['date'] + ' ' + df['time']\n",
        "\n",
        "# Convert the combined string to datetime\n",
        "df['datetime'] = pd.to_datetime(df['datetime_str'], format='%d-%m-%Y %H:%M:%S')\n",
        "\n",
        "# Drop the intermediate column if not needed\n",
        "df = df.drop(columns=['datetime_str','date','time'])\n"
      ],
      "metadata": {
        "id": "bOycvQ3-wN_W"
      },
      "execution_count": 4,
      "outputs": []
    },
    {
      "cell_type": "code",
      "source": [
        "!pip install pymongo"
      ],
      "metadata": {
        "colab": {
          "base_uri": "https://localhost:8080/"
        },
        "id": "snkqDbprNcPl",
        "outputId": "588b0d87-741c-4cab-aaf7-c70ff5c6138f"
      },
      "execution_count": 5,
      "outputs": [
        {
          "output_type": "stream",
          "name": "stdout",
          "text": [
            "Collecting pymongo\n",
            "  Downloading pymongo-4.9.1-cp310-cp310-manylinux_2_17_x86_64.manylinux2014_x86_64.whl.metadata (22 kB)\n",
            "Collecting dnspython<3.0.0,>=1.16.0 (from pymongo)\n",
            "  Downloading dnspython-2.6.1-py3-none-any.whl.metadata (5.8 kB)\n",
            "Downloading pymongo-4.9.1-cp310-cp310-manylinux_2_17_x86_64.manylinux2014_x86_64.whl (1.4 MB)\n",
            "\u001b[2K   \u001b[90m━━━━━━━━━━━━━━━━━━━━━━━━━━━━━━━━━━━━━━━━\u001b[0m \u001b[32m1.4/1.4 MB\u001b[0m \u001b[31m17.3 MB/s\u001b[0m eta \u001b[36m0:00:00\u001b[0m\n",
            "\u001b[?25hDownloading dnspython-2.6.1-py3-none-any.whl (307 kB)\n",
            "\u001b[2K   \u001b[90m━━━━━━━━━━━━━━━━━━━━━━━━━━━━━━━━━━━━━━━━\u001b[0m \u001b[32m307.7/307.7 kB\u001b[0m \u001b[31m16.8 MB/s\u001b[0m eta \u001b[36m0:00:00\u001b[0m\n",
            "\u001b[?25hInstalling collected packages: dnspython, pymongo\n",
            "Successfully installed dnspython-2.6.1 pymongo-4.9.1\n"
          ]
        }
      ]
    },
    {
      "cell_type": "code",
      "source": [
        "from pymongo import MongoClient\n",
        "\n",
        "mongo_uri = # your uri string\n",
        "client = MongoClient(mongo_uri, tls=True, tlsAllowInvalidCertificates=True)  # Allow invalid certificates\n",
        "\n",
        "# Rest of your code\n",
        "db = client['your_databse']          #enter your own databse name\n",
        "collection = db['your_collection']    #enter your own collection name\n",
        "# Convert DataFrame to dictionary\n",
        "data_dict = df.to_dict(\"records\")\n",
        "\n",
        "# Insert data into MongoDB\n",
        "collection.insert_many(data_dict)\n",
        "\n",
        "print(\"Data uploaded successfully to MongoDB!\")"
      ],
      "metadata": {
        "colab": {
          "base_uri": "https://localhost:8080/"
        },
        "id": "nxo0vFGYNfKA",
        "outputId": "5d921fb4-6744-4de5-d0ca-0d1521408bdb"
      },
      "execution_count": null,
      "outputs": [
        {
          "output_type": "stream",
          "name": "stdout",
          "text": [
            "Data uploaded successfully to MongoDB!\n"
          ]
        }
      ]
    },
    {
      "cell_type": "code",
      "source": [
        "print(\"xsa\")"
      ],
      "metadata": {
        "id": "vLYHHEuRQMwZ",
        "outputId": "6893104b-b874-45e7-fc0c-085e7e61e233",
        "colab": {
          "base_uri": "https://localhost:8080/"
        }
      },
      "execution_count": 1,
      "outputs": [
        {
          "output_type": "stream",
          "name": "stdout",
          "text": [
            "xsa\n"
          ]
        }
      ]
    },
    {
      "cell_type": "code",
      "source": [],
      "metadata": {
        "id": "zmTwXhItpLDf"
      },
      "execution_count": null,
      "outputs": []
    }
  ]
}